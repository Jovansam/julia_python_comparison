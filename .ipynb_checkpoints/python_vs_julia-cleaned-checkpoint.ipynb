{
 "cells": [
  {
   "cell_type": "markdown",
   "metadata": {},
   "source": [
    "# No, Python is Not Too Slow for Computational Economics\n",
    "\n",
    "### John Stachurski\n",
    "\n",
    "#### Australian National University\n",
    "\n",
    "Acknowledgements: Thanks to anonymous friends for helpful comments\n",
    "\n",
    "Date: September 2018"
   ]
  },
  {
   "cell_type": "markdown",
   "metadata": {},
   "source": [
    "## Introduction"
   ]
  },
  {
   "cell_type": "markdown",
   "metadata": {},
   "source": [
    "In [this paper](https://github.com/jstac/julia_python_comparison/blob/master/Update_March_23_2018.pdf), S. Boragan Aruoba and Jesus Fernandez-Villaverde (AFV) study the relative speed of a range of programming lanugages by testing them on a value function iteration routine.  In the abstract they state:\n",
    "\n",
    "**\"The central conclusions of our original paper remain unaltered: C++ is the fastest alternative, Julia offers a great balance of speed and ease of use, and Python is too slow.\"**\n",
    "\n",
    "Even the authors' own findings do not support this conclusion.  In their table 1, Python combined with its scientific libraries is actually reported as slightly faster than Julia (2.31 seconds for Python vs 2.35 for Julia).\n",
    "\n",
    "We rerun the code below and find a similar outcome: The Python code runs in around 3.5 seconds, compared to Julia's 4.5.  The execution environment is \n",
    "\n",
    "```\n",
    "Architecture:        x86_64\n",
    "CPU op-mode(s):      32-bit, 64-bit\n",
    "Byte Order:          Little Endian\n",
    "CPU(s):              4\n",
    "On-line CPU(s) list: 0-3\n",
    "Thread(s) per core:  2\n",
    "Core(s) per socket:  2\n",
    "Socket(s):           1\n",
    "NUMA node(s):        1\n",
    "Vendor ID:           GenuineIntel\n",
    "CPU family:          6\n",
    "Model:               142\n",
    "Model name:          Intel(R) Core(TM) i5-7300U CPU @ 2.60GHz\n",
    "```\n",
    "\n",
    "We are using the latest version of each language and scientific ecosystem at the time of writing: Julia 1.0 and Anaconda Python 5.2.\n",
    "\n",
    "Of course, we are comparing only Julia vs Python plus its scientific libraries (as opposed to Julia vs pure Python), since no scientist would consider foregoing the scientific libraries when implementing computationally intensive algorithms in Python.\n",
    "\n"
   ]
  },
  {
   "cell_type": "markdown",
   "metadata": {},
   "source": [
    "## Additional Comments"
   ]
  },
  {
   "cell_type": "markdown",
   "metadata": {},
   "source": [
    "1. Python is massively popular for both general purpose and scientific computing (see, e.g., [this ranking](https://spectrum.ieee.org/static/interactive-the-top-programming-languages-2018)).  Its popularity is partly due to (and partly caused by) the huge range of third party libraries.  Within the scientific domain, these libraries include high quality array processing software and a powerful JIT compiler.  \n",
    "\n",
    "2. Python's primary scientific JIT compiler (Numba) and Julia's JIT compiler are built on the same architecture (LLVM).  Similar execution times are to be expected.  From this perspective it is surprising that the Python code runs faster on this machine.  Other users are likely to get slightly different relative run times.\n",
    "\n",
    "3. AFV do not display any profiling of their codes in the different languages. No memory footprint, no flop rates, etc. are shown. This matters because memory access patterns can always be optimized, especially in small problems as treated here.  One would have to take into account all the individual features of the programming languages to make a fair comparison. (Most likely there would be no surprise, as their performance behavior is known.)  A useful refernence is: S. Goedecker and A. Hoisie. Performance Optimization of Numerically Intensive Codes (SIAM), 2001. ISBN 978-0898714845. \n",
    "\n",
    "4. As an aside, the author thinks Julia is a great project and hopes that it succeeds.  Python wouldn't be where it is now without the flow of ideas (and competitive pressure) from Julia.\n"
   ]
  },
  {
   "cell_type": "markdown",
   "metadata": {},
   "source": [
    "## Timings"
   ]
  },
  {
   "cell_type": "markdown",
   "metadata": {},
   "source": [
    "The code below is exactly as in the [GitHub](https://github.com/jesusfv/Comparison-Programming-Languages-Economics) repo, except for the following changes, consistent comments made in the 2018 paper. \n",
    "\n",
    "1. Doubled the length of the capital grid.\n",
    "2. Convergence tolerance is 1e-8.\n",
    "3. Print out status after every 20 iterations.\n",
    "4. Changed print statements to print functions (Python 3 compliance)"
   ]
  },
  {
   "cell_type": "code",
<<<<<<< HEAD:.ipynb_checkpoints/python_vs_julia-cleaned-checkpoint.ipynb
   "execution_count": 5,
=======
   "execution_count": 1,
>>>>>>> 9b77bcb32485d3a10302b7d648c1ac6c4ba7d5c3:python_vs_julia-cleaned.ipynb
   "metadata": {},
   "outputs": [],
   "source": [
    "import numpy as np\n",
    "import math\n",
    "import time\n",
    "from numba import njit, prange"
   ]
  },
  {
   "cell_type": "code",
<<<<<<< HEAD:.ipynb_checkpoints/python_vs_julia-cleaned-checkpoint.ipynb
   "execution_count": 6,
=======
   "execution_count": 2,
>>>>>>> 9b77bcb32485d3a10302b7d648c1ac6c4ba7d5c3:python_vs_julia-cleaned.ipynb
   "metadata": {},
   "outputs": [],
   "source": [
    "β = 0.95\n",
    "α = 1/3\n",
    "A = np.array([0.9792, 0.9896, 1.0000, 1.0106, 1.0212])  # Productivity\n",
    "\n",
    "# Transition matrix\n",
    "π = np.array([[0.9727, 0.0273, 0.0000, 0.0000, 0.0000],\n",
    "              [0.0041, 0.9806, 0.0153, 0.0000, 0.0000],\n",
    "              [0.0000, 0.0082, 0.9837, 0.0082, 0.0000],\n",
    "              [0.0000, 0.0000, 0.0153, 0.9806, 0.0041],\n",
    "              [0.0000, 0.0000, 0.0000, 0.0273, 0.9727]])\n",
    "\n",
    "# Steady state values\n",
    "\n",
    "k_star = (α * β)**(1 / (1 - α))  # Steady state capital\n",
    "y_star = k_star**α               # Steady state output\n",
    "c_star = y_star - k_star         # Steady state consumption\n",
    "\n",
    "# Set up capital grid\n",
    "n = 35640                        # Number of grid points\n",
    "k_grid = np.linspace(0.5 * k_star, 1.5 * k_star, n)"
   ]
  },
  {
   "cell_type": "code",
<<<<<<< HEAD:.ipynb_checkpoints/python_vs_julia-cleaned-checkpoint.ipynb
   "execution_count": 7,
=======
   "execution_count": 3,
>>>>>>> 9b77bcb32485d3a10302b7d648c1ac6c4ba7d5c3:python_vs_julia-cleaned.ipynb
   "metadata": {},
   "outputs": [],
   "source": [
    "@njit(parallel=True)\n",
    "def inner_loop(k_grid, v, A, π, β):\n",
    "    \n",
    "    E_v = v @ π.T                    # Expected value function\n",
    "    y_grid = np.outer(k_grid**α, A)  # Output grid\n",
    "    \n",
    "    v_new = np.empty_like(y_grid)\n",
    "    σ = np.empty_like(y_grid)\n",
    "    \n",
    "    for a in prange(len(A)):     \n",
    "        k_next = 0\n",
    "        \n",
    "        for i in prange(len(k_grid)):\n",
    "\n",
    "            v_max = -1e5\n",
    "            k_prime = k_grid[0]\n",
    "\n",
    "            for j in prange(k_next, len(k_grid)):  \n",
    "                y = y_grid[i, a]\n",
    "                k = k_grid[j]\n",
    "                c = y - k\n",
    "                v_temp = (1 - β) * np.log(c) + β * E_v[j, a];\n",
    "\n",
    "                if v_temp > v_max:\n",
    "                    v_max = v_temp\n",
    "                    k_prime = k_grid[j]\n",
    "                    k_next = j\n",
    "                else:\n",
    "                    break \n",
    "\n",
    "            v_new[i, a] = v_max\n",
    "            σ[i, a] = k_prime\n",
    "\n",
    "    return v_new, σ"
   ]
  },
  {
   "cell_type": "code",
<<<<<<< HEAD:.ipynb_checkpoints/python_vs_julia-cleaned-checkpoint.ipynb
   "execution_count": 8,
=======
   "execution_count": 4,
>>>>>>> 9b77bcb32485d3a10302b7d648c1ac6c4ba7d5c3:python_vs_julia-cleaned.ipynb
   "metadata": {},
   "outputs": [],
   "source": [
    "def solve_model(k_grid, \n",
    "                A, \n",
    "                π,\n",
    "                α=1/3, \n",
    "                β=0.95,\n",
    "                tol=1e-8,\n",
    "                maxiter=1000):\n",
    "\n",
    "    # Initialize values\n",
    "    diff = 1e3\n",
    "    i = 0\n",
    "    v = np.zeros((len(k_grid), len(A)))\n",
    "\n",
    "    while diff > tol and i < maxiter:       \n",
    "            \n",
    "        # Update value and policy functions for given productivity\n",
    "        v_new, σ = inner_loop(k_grid, v, A, π, β)\n",
    "\n",
    "        diff = np.abs(v_new - v).max()\n",
    "        v = v_new\n",
    "\n",
    "        i += 1\n",
    "        if(i % 20 == 0 or i == 1):\n",
    "            print(f\"Iteration {i}: diff = {diff}\")\n",
    "            \n",
    "    print(f'Coverged in {i} iterations')\n",
    "            \n",
    "    return v_new, σ"
   ]
  },
  {
   "cell_type": "code",
<<<<<<< HEAD:.ipynb_checkpoints/python_vs_julia-cleaned-checkpoint.ipynb
   "execution_count": null,
=======
   "execution_count": 5,
>>>>>>> 9b77bcb32485d3a10302b7d648c1ac6c4ba7d5c3:python_vs_julia-cleaned.ipynb
   "metadata": {},
   "outputs": [
    {
     "name": "stdout",
     "output_type": "stream",
     "text": [
      "Iteration 1: diff = 0.05274159340733661\n",
<<<<<<< HEAD:.ipynb_checkpoints/python_vs_julia-cleaned-checkpoint.ipynb
      "Iteration 20: diff = 0.018703461659313803\n",
      "Iteration 40: diff = 0.006668550348659208\n",
      "Iteration 60: diff = 0.0023813230210369962\n",
      "Iteration 80: diff = 0.0008513486462362607\n",
      "Iteration 100: diff = 0.00030462866646285836\n"
     ]
=======
      "Iteration 20: diff = 0.018703459885652807\n",
      "Iteration 40: diff = 0.006668541708059972\n",
      "Iteration 60: diff = 0.0023813118038562564\n",
      "Iteration 80: diff = 0.0008513397746838791\n",
      "Iteration 100: diff = 0.0003046232441998864\n",
      "Iteration 120: diff = 0.00010906950872069388\n",
      "Iteration 140: diff = 3.9071082117980716e-05\n",
      "Iteration 160: diff = 1.4008644636520629e-05\n",
      "Iteration 180: diff = 5.026474537705994e-06\n",
      "Iteration 200: diff = 1.8035522478809796e-06\n",
      "Iteration 220: diff = 6.471316943423844e-07\n",
      "Iteration 240: diff = 2.3219657918627234e-07\n",
      "Iteration 260: diff = 8.331409395712086e-08\n",
      "Iteration 280: diff = 2.989378011797328e-08\n",
      "Iteration 300: diff = 1.0726129207050406e-08\n",
      "Coverged in 302 iterations\n"
     ]
    },
    {
     "data": {
      "text/plain": [
       "(array([[-0.99728785, -0.98552127, -0.97408174, -0.96027354, -0.94819576],\n",
       "        [-0.99728648, -0.9855199 , -0.97408037, -0.96027217, -0.9481944 ],\n",
       "        [-0.99728512, -0.98551853, -0.974079  , -0.9602708 , -0.94819303],\n",
       "        ...,\n",
       "        [-0.97049334, -0.95872675, -0.947286  , -0.93347902, -0.92140126],\n",
       "        [-0.97049289, -0.9587263 , -0.94728554, -0.93347856, -0.9214008 ],\n",
       "        [-0.97049243, -0.95872584, -0.94728509, -0.93347811, -0.92140034]]),\n",
       " array([[0.13849505, 0.13996508, 0.14145011, 0.14293514, 0.14443516],\n",
       "        [0.13849505, 0.13997008, 0.14145011, 0.14294014, 0.14443516],\n",
       "        [0.13850006, 0.13997008, 0.14145511, 0.14294014, 0.14444016],\n",
       "        ...,\n",
       "        [0.19974118, 0.20186122, 0.20400626, 0.2061463 , 0.20830634],\n",
       "        [0.19974118, 0.20186622, 0.20400626, 0.2061463 , 0.20831134],\n",
       "        [0.19974118, 0.20186622, 0.20400626, 0.2061513 , 0.20831134]]))"
      ]
     },
     "execution_count": 5,
     "metadata": {},
     "output_type": "execute_result"
>>>>>>> 9b77bcb32485d3a10302b7d648c1ac6c4ba7d5c3:python_vs_julia-cleaned.ipynb
    }
   ],
   "source": [
    "solve_model(k_grid, A, π)"
   ]
  },
  {
   "cell_type": "code",
   "execution_count": 6,
   "metadata": {},
   "outputs": [
    {
     "name": "stdout",
     "output_type": "stream",
     "text": [
      "Iteration 1: diff = 0.05274159340733661\n",
      "Iteration 20: diff = 0.018703459885652807\n",
      "Iteration 40: diff = 0.006668541708059972\n",
      "Iteration 60: diff = 0.0023813118038562564\n",
      "Iteration 80: diff = 0.0008513397746838791\n",
      "Iteration 100: diff = 0.0003046232441998864\n",
      "Iteration 120: diff = 0.00010906950872069388\n",
      "Iteration 140: diff = 3.9071082117980716e-05\n",
      "Iteration 160: diff = 1.4008644636520629e-05\n",
      "Iteration 180: diff = 5.026474537705994e-06\n",
      "Iteration 200: diff = 1.8035522478809796e-06\n",
      "Iteration 220: diff = 6.471316943423844e-07\n",
      "Iteration 240: diff = 2.3219657918627234e-07\n",
      "Iteration 260: diff = 8.331409395712086e-08\n",
      "Iteration 280: diff = 2.989378011797328e-08\n",
      "Iteration 300: diff = 1.0726129207050406e-08\n",
      "Coverged in 302 iterations\n",
      "CPU times: user 4.01 s, sys: 413 ms, total: 4.43 s\n",
      "Wall time: 1.74 s\n"
     ]
    }
   ],
   "source": [
    "%time v, σ = solve_model(k_grid, A, π)"
   ]
  },
  {
   "cell_type": "code",
   "execution_count": 7,
   "metadata": {},
   "outputs": [
    {
     "data": {
      "text/plain": [
       "<matplotlib.figure.Figure at 0x61dc21470>"
      ]
     },
     "metadata": {},
     "output_type": "display_data"
    }
   ],
   "source": [
    "import matplotlib.pyplot as plt\n",
    "\n",
    "plt.figure(figsize=(10, 6))\n",
    "plt.plot(k_grid, σ)\n",
    "plt.xlabel('k')\n",
    "plt.ylabel('c')\n",
    "plt.legend(A, title='Productivity value')\n",
    "plt.show()"
   ]
  },
  {
   "cell_type": "code",
   "execution_count": 8,
   "metadata": {},
   "outputs": [
    {
     "data": {
      "image/png": "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\n",
      "text/plain": [
       "<matplotlib.figure.Figure at 0x61dbff898>"
      ]
     },
     "metadata": {},
     "output_type": "display_data"
    }
   ],
   "source": [
    "plt.figure(figsize=(10, 6))\n",
    "plt.plot(k_grid, v)\n",
    "plt.xlabel('k')\n",
    "plt.ylabel('v')\n",
    "plt.legend(A, title='Productivity value')\n",
    "plt.show()"
   ]
  },
  {
   "cell_type": "markdown",
   "metadata": {},
   "source": [
    "Another claim of the paper is that \"Julia benefits a lot from a mild investment on optimization and makes it easier to compare with `Numba` and `Cython`, which require extra work as well with respect to basic Python\". The evidence they provide actually supports the opposite claim. After adapting their original code to Python 3, it turns out that only two lines need to be added (and a few of their inconsistencies deleted) to get `Numba` to run: `from numba import jit` and `@njit`. Not only is this extremely easy, but it is also much less work than AVF put into trying to optimize their Julia code, which can be partially observed by looking at the history of the file [here](https://github.com/jesusfv/Comparison-Programming-Languages-Economics/commits/master/RBC_Julia.jl). For timing purposes, we also remove the print statements, and add a warm-up period. We run the new code in the cell below."
   ]
  },
  {
   "cell_type": "markdown",
   "metadata": {},
   "source": [
    "## Julia version\n",
    "\n",
    "To run the Julia code you will need to download it from [here](https://github.com/jstac/julia_python_comparison) and place it in the present working directory. We remove the print statements and add a warm-up iteration to be consistent with the Python code."
   ]
  },
  {
   "cell_type": "code",
   "execution_count": 9,
   "metadata": {},
   "outputs": [
    {
     "name": "stdout",
     "output_type": "stream",
     "text": [
      "First run (warm-up): \n",
      "  3.765057 seconds (2.62 M allocations: 1.337 GiB, 4.92% gc time)\n",
      "Second run: \n",
      "  2.769750 seconds (1.84 k allocations: 1.211 GiB, 3.87% gc time)\n"
     ]
    }
   ],
   "source": [
    "!julia RBC_Julia.jl"
   ]
  },
  {
   "cell_type": "markdown",
   "metadata": {},
   "source": [
    "We are not the only ones who made similar observations. Other researchers report that Python is faster than Julia [here](https://discourse.julialang.org/t/a-comparison-of-programming-languages-in-economics/8966/19)."
   ]
  }
 ],
 "metadata": {
  "kernelspec": {
   "display_name": "Python 3",
   "language": "python",
   "name": "python3"
  },
  "language_info": {
   "codemirror_mode": {
    "name": "ipython",
    "version": 3
   },
   "file_extension": ".py",
   "mimetype": "text/x-python",
   "name": "python",
   "nbconvert_exporter": "python",
   "pygments_lexer": "ipython3",
   "version": "3.6.5"
  }
 },
 "nbformat": 4,
 "nbformat_minor": 2
}
